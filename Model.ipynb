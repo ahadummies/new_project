{
 "cells": [
  {
   "cell_type": "code",
   "execution_count": 1,
   "id": "danish-crown",
   "metadata": {},
   "outputs": [],
   "source": [
    "import numpy as np"
   ]
  },
  {
   "cell_type": "code",
   "execution_count": 2,
   "id": "natural-dining",
   "metadata": {},
   "outputs": [
    {
     "name": "stdout",
     "output_type": "stream",
     "text": [
      "This notebook for Training ML Models\n"
     ]
    }
   ],
   "source": [
    "print('This notebook for Training ML Models')"
   ]
  },
  {
   "cell_type": "code",
   "execution_count": 3,
   "id": "communist-remove",
   "metadata": {},
   "outputs": [
    {
     "name": "stdout",
     "output_type": "stream",
     "text": [
      "Some fixes\n"
     ]
    }
   ],
   "source": [
    "print(\"Some fixes\")"
   ]
  },
  {
   "cell_type": "code",
   "execution_count": null,
   "id": "thirty-payroll",
   "metadata": {},
   "outputs": [],
   "source": []
  }
 ],
 "metadata": {
  "kernelspec": {
   "display_name": "Python 3",
   "language": "python",
   "name": "python3"
  },
  "language_info": {
   "codemirror_mode": {
    "name": "ipython",
    "version": 3
   },
   "file_extension": ".py",
   "mimetype": "text/x-python",
   "name": "python",
   "nbconvert_exporter": "python",
   "pygments_lexer": "ipython3",
   "version": "3.8.5"
  }
 },
 "nbformat": 4,
 "nbformat_minor": 5
}
